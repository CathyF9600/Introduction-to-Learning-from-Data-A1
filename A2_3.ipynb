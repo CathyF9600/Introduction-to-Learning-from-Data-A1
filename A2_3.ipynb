{
 "cells": [
  {
   "attachments": {},
   "cell_type": "markdown",
   "metadata": {},
   "source": [
    "# Radial Basis Function Model"
   ]
  },
  {
   "cell_type": "code",
   "execution_count": 21,
   "metadata": {},
   "outputs": [],
   "source": [
    "import numpy as np\n",
    "import scipy\n",
    "import matplotlib.pyplot as plt\n",
    "from pdb import set_trace\n",
    "from data.data_utils import load_dataset\n",
    "from scipy.linalg import cho_factor, cho_solve"
   ]
  },
  {
   "cell_type": "code",
   "execution_count": 22,
   "metadata": {},
   "outputs": [],
   "source": [
    "np.random.seed(42)"
   ]
  },
  {
   "cell_type": "code",
   "execution_count": 23,
   "metadata": {},
   "outputs": [],
   "source": [
    "# MULTIDIMENSIONAL KERNEL DEFINITION\n",
    "def gaussian_kernel(x, z, theta=1.):\n",
    "    \"\"\"\n",
    "    Evaluate the Gram matrix for a Gaussian kernel between points in x and z.\n",
    "    Inputs:\n",
    "        x : array of shape (N, d)\n",
    "        z : array of shape (M, d)\n",
    "        theta : lengthscale parameter (>0)\n",
    "    Outputs:\n",
    "        k : Gram matrix of shape (N, M)\n",
    "    \"\"\"\n",
    "    # reshape the matricies correctly for broadcasting\n",
    "    x = np.expand_dims(x, axis=1)\n",
    "    z = np.expand_dims(z, axis=0)\n",
    "    # now evaluate the kernel using the euclidean distances squared between points\n",
    "    return np.exp(-np.sum(np.square(x-z)/theta, axis=2, keepdims=False))\n",
    "\n",
    "# TWO WAYS TO WRITE LEAST SQAURE ERROR LOSS FUNCTION\n",
    "def lse_loss(y_true, y_pred):\n",
    "    return np.linalg.norm(y_true - y_pred) ** 2 / (y_true.shape[0])\n",
    "\n",
    "def lse_loss2(y_true, y_pred):\n",
    "    return np.mean(np.square(y_true - y_pred))\n"
   ]
  },
  {
   "attachments": {},
   "cell_type": "markdown",
   "metadata": {},
   "source": [
    "# Mauna_loa"
   ]
  },
  {
   "cell_type": "code",
   "execution_count": 24,
   "metadata": {},
   "outputs": [
    {
     "name": "stdout",
     "output_type": "stream",
     "text": [
      "theta: 0.050000\tlamda: 0.001000\tloss: 1.487690\n",
      "theta: 0.050000\tlamda: 0.010000\tloss: 1.248379\n",
      "theta: 0.050000\tlamda: 0.100000\tloss: 1.170763\n",
      "theta: 0.050000\tlamda: 1.000000\tloss: 1.192925\n",
      "theta: 0.100000\tlamda: 0.001000\tloss: 2.005867\n",
      "theta: 0.100000\tlamda: 0.010000\tloss: 1.121770\n",
      "theta: 0.100000\tlamda: 0.100000\tloss: 0.932977\n",
      "theta: 0.100000\tlamda: 1.000000\tloss: 0.993464\n",
      "theta: 0.500000\tlamda: 0.001000\tloss: 0.120479\n",
      "theta: 0.500000\tlamda: 0.010000\tloss: 0.182945\n",
      "theta: 0.500000\tlamda: 0.100000\tloss: 0.224430\n",
      "theta: 0.500000\tlamda: 1.000000\tloss: 0.367641\n",
      "theta: 1.000000\tlamda: 0.001000\tloss: 0.015495\n",
      "theta: 1.000000\tlamda: 0.010000\tloss: 0.052668\n",
      "theta: 1.000000\tlamda: 0.100000\tloss: 0.114997\n",
      "theta: 1.000000\tlamda: 1.000000\tloss: 0.196794\n",
      "theta: 2.000000\tlamda: 0.001000\tloss: 0.040685\n",
      "theta: 2.000000\tlamda: 0.010000\tloss: 0.063708\n",
      "theta: 2.000000\tlamda: 0.100000\tloss: 0.047152\n",
      "theta: 2.000000\tlamda: 1.000000\tloss: 0.062111\n"
     ]
    },
    {
     "data": {
      "text/plain": [
       "array([[1.48768999, 1.24837923, 1.17076297, 1.19292526],\n",
       "       [2.00586689, 1.12177039, 0.93297741, 0.9934635 ],\n",
       "       [0.12047903, 0.18294482, 0.22443026, 0.36764121],\n",
       "       [0.01549494, 0.05266788, 0.11499661, 0.19679406],\n",
       "       [0.04068502, 0.06370791, 0.04715181, 0.06211053]])"
      ]
     },
     "execution_count": 24,
     "metadata": {},
     "output_type": "execute_result"
    }
   ],
   "source": [
    "x_train, x_valid, x_test, y_train, y_valid, y_test = load_dataset('mauna_loa')\n",
    "thetaL = np.array([0.05, 0.1, 0.5, 1, 2])\n",
    "lambdaL = np.array([0.001, 0.01, 0.1, 1])\n",
    "# a = (K + lambd*I)^-1 y\n",
    "I = np.identity(x_train.shape[0])\n",
    "loss = np.empty((thetaL.shape[0], lambdaL.shape[0]))\n",
    "for i, theta in enumerate(thetaL):\n",
    "    for j, lambd in enumerate(lambdaL):\n",
    "        # get the Cholesky decomposition of (K + lambd*I)\n",
    "        K = gaussian_kernel(x_train, x_train, theta) # form Gram matrix\n",
    "        C = cho_factor(K + lambd*I) # cholesky factorize\n",
    "        alpha = cho_solve(C, y_train) # compute parameters\n",
    "        yy = gaussian_kernel(x_valid, x_train, theta).dot(alpha) # predict\n",
    "        loss[i][j] = lse_loss(y_valid, yy)\n",
    "        print(\"theta: %f\\tlamda: %f\\tloss: %f\" %(theta, lambd, loss[i][j]))\n",
    "loss"
   ]
  },
  {
   "cell_type": "code",
   "execution_count": 25,
   "metadata": {},
   "outputs": [
    {
     "name": "stdout",
     "output_type": "stream",
     "text": [
      "Best params: thet: 1.000000\tlambda: 0.001000\tvalid_loss: 0.015495\n"
     ]
    }
   ],
   "source": [
    "best = np.unravel_index(np.argmin(loss), loss.shape) # find the index for smallest loss (row, col)\n",
    "theta = thetaL[best[0]]\n",
    "lambd = lambdaL[best[1]]\n",
    "print(\"Best params: thet: %f\\tlambda: %f\\tvalid_loss: %f\" %(theta, lambd, loss[best]))"
   ]
  },
  {
   "cell_type": "code",
   "execution_count": 26,
   "metadata": {},
   "outputs": [
    {
     "name": "stdout",
     "output_type": "stream",
     "text": [
      "Best params: thet: 1.000000\tlambda: 0.001000\ttest_loss: 0.022432\n"
     ]
    }
   ],
   "source": [
    "# Test data\n",
    "# Merge splits\n",
    "x = np.vstack([x_valid, x_train])\n",
    "y = np.vstack([y_valid, y_train])\n",
    "I2 = np.identity(x.shape[0])\n",
    "# get the Cholesky decomposition of (K + lambd*I)\n",
    "K = gaussian_kernel(x, x, theta) # form Gram matrix\n",
    "C = cho_factor(K + lambd*I2) # cholesky factorize\n",
    "alpha = cho_solve(C, y) # compute parameters\n",
    "yy2 = gaussian_kernel(x_test, x, theta).dot(alpha) # predict\n",
    "loss2 = lse_loss(y_test, yy2)\n",
    "print(\"Best params: thet: %f\\tlambda: %f\\ttest_loss: %f\" %(theta, lambd,loss2))"
   ]
  },
  {
   "attachments": {},
   "cell_type": "markdown",
   "metadata": {},
   "source": [
    "# Rosenbrock, n_train=1000, d=2"
   ]
  },
  {
   "cell_type": "code",
   "execution_count": 27,
   "metadata": {},
   "outputs": [],
   "source": [
    "x_train, x_valid, x_test, y_train, y_valid, y_test = load_dataset('rosenbrock', n_train=1000, d=2)\n"
   ]
  },
  {
   "cell_type": "code",
   "execution_count": 28,
   "metadata": {},
   "outputs": [
    {
     "name": "stdout",
     "output_type": "stream",
     "text": [
      "theta: 0.050000\tlamda: 0.001000\tloss: 0.540906\n",
      "theta: 0.050000\tlamda: 0.010000\tloss: 0.545992\n",
      "theta: 0.050000\tlamda: 0.100000\tloss: 0.565966\n",
      "theta: 0.050000\tlamda: 1.000000\tloss: 0.653030\n",
      "theta: 0.100000\tlamda: 0.001000\tloss: 0.392609\n",
      "theta: 0.100000\tlamda: 0.010000\tloss: 0.399459\n",
      "theta: 0.100000\tlamda: 0.100000\tloss: 0.419560\n",
      "theta: 0.100000\tlamda: 1.000000\tloss: 0.519150\n",
      "theta: 0.500000\tlamda: 0.001000\tloss: 0.123557\n",
      "theta: 0.500000\tlamda: 0.010000\tloss: 0.145166\n",
      "theta: 0.500000\tlamda: 0.100000\tloss: 0.175639\n",
      "theta: 0.500000\tlamda: 1.000000\tloss: 0.263490\n",
      "theta: 1.000000\tlamda: 0.001000\tloss: 0.066170\n",
      "theta: 1.000000\tlamda: 0.010000\tloss: 0.088451\n",
      "theta: 1.000000\tlamda: 0.100000\tloss: 0.128296\n",
      "theta: 1.000000\tlamda: 1.000000\tloss: 0.217749\n",
      "theta: 2.000000\tlamda: 0.001000\tloss: 0.037342\n",
      "theta: 2.000000\tlamda: 0.010000\tloss: 0.058094\n",
      "theta: 2.000000\tlamda: 0.100000\tloss: 0.097161\n",
      "theta: 2.000000\tlamda: 1.000000\tloss: 0.190573\n"
     ]
    },
    {
     "data": {
      "text/plain": [
       "array([[0.54090609, 0.54599187, 0.5659655 , 0.65302976],\n",
       "       [0.39260905, 0.39945925, 0.41956037, 0.51914981],\n",
       "       [0.12355709, 0.14516644, 0.17563918, 0.26349018],\n",
       "       [0.06617027, 0.08845106, 0.12829616, 0.21774862],\n",
       "       [0.03734154, 0.05809418, 0.09716117, 0.19057335]])"
      ]
     },
     "execution_count": 28,
     "metadata": {},
     "output_type": "execute_result"
    }
   ],
   "source": [
    "thetaL = np.array([0.05, 0.1, 0.5, 1, 2])\n",
    "lambdaL = np.array([0.001, 0.01, 0.1, 1])\n",
    "# a = (K + lambd*I)^-1 y\n",
    "I = np.identity(x_train.shape[0])\n",
    "loss = np.empty((thetaL.shape[0], lambdaL.shape[0]))\n",
    "for i, theta in enumerate(thetaL):\n",
    "    for j, lambd in enumerate(lambdaL):\n",
    "        # get the Cholesky decomposition of (K + lambd*I)\n",
    "        K = gaussian_kernel(x_train, x_train, theta) # form Gram matrix\n",
    "        C = cho_factor(K + lambd*I) # cholesky factorize\n",
    "        alpha = cho_solve(C, y_train) # compute parameters\n",
    "        yy = gaussian_kernel(x_valid, x_train, theta).dot(alpha) # predict\n",
    "        loss[i][j] = lse_loss(y_valid, yy)\n",
    "        print(\"theta: %f\\tlamda: %f\\tloss: %f\" %(theta, lambd, loss[i][j]))\n",
    "loss"
   ]
  },
  {
   "cell_type": "code",
   "execution_count": 29,
   "metadata": {},
   "outputs": [
    {
     "name": "stdout",
     "output_type": "stream",
     "text": [
      "Best params: thet: 2.000000\tlambda: 0.001000\tvalid_loss: 0.037342\n"
     ]
    }
   ],
   "source": [
    "best = np.unravel_index(np.argmin(loss), loss.shape) # find the index for smallest loss (row, col)\n",
    "theta = thetaL[best[0]]\n",
    "lambd = lambdaL[best[1]]\n",
    "print(\"Best params: thet: %f\\tlambda: %f\\tvalid_loss: %f\" %(theta, lambd, loss[best]))"
   ]
  },
  {
   "cell_type": "code",
   "execution_count": 30,
   "metadata": {},
   "outputs": [
    {
     "name": "stdout",
     "output_type": "stream",
     "text": [
      "Best params: thet: 2.000000\tlambda: 0.001000\ttest_loss: 0.021941\n"
     ]
    }
   ],
   "source": [
    "# Test data\n",
    "# Merge splits\n",
    "x = np.vstack([x_valid, x_train])\n",
    "y = np.vstack([y_valid, y_train])\n",
    "I2 = np.identity(x.shape[0])\n",
    "# get the Cholesky decomposition of (K + lambd*I)\n",
    "K = gaussian_kernel(x, x, theta) # form Gram matrix\n",
    "C = cho_factor(K + lambd*I2) # cholesky factorize\n",
    "alpha = cho_solve(C, y) # compute parameters\n",
    "yy2 = gaussian_kernel(x_test, x, theta).dot(alpha) # predict\n",
    "loss2 = lse_loss(y_test, yy2)\n",
    "print(\"Best params: thet: %f\\tlambda: %f\\ttest_loss: %f\" %(theta, lambd,loss2))"
   ]
  }
 ],
 "metadata": {
  "kernelspec": {
   "display_name": "base",
   "language": "python",
   "name": "python3"
  },
  "language_info": {
   "codemirror_mode": {
    "name": "ipython",
    "version": 3
   },
   "file_extension": ".py",
   "mimetype": "text/x-python",
   "name": "python",
   "nbconvert_exporter": "python",
   "pygments_lexer": "ipython3",
   "version": "3.9.13"
  },
  "orig_nbformat": 4,
  "vscode": {
   "interpreter": {
    "hash": "a19317f4f5c54ce075ccd52f4e23518d94270cb19615dfa3919d4f34583ea1e9"
   }
  }
 },
 "nbformat": 4,
 "nbformat_minor": 2
}
