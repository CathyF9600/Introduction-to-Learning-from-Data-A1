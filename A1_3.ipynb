{
 "cells": [
  {
   "attachments": {},
   "cell_type": "markdown",
   "metadata": {},
   "source": [
    "# Q3 KNN Classification "
   ]
  },
  {
   "cell_type": "code",
   "execution_count": 744,
   "metadata": {},
   "outputs": [],
   "source": [
    "from sklearn.neighbors import KDTree\n",
    "import numpy\n",
    "from data.data_utils import load_dataset\n",
    "import numpy as np\n",
    "import scipy\n",
    "import matplotlib.pyplot as plt\n",
    "from scipy.linalg import svd\n",
    "from pdb import set_trace\n",
    "import time"
   ]
  },
  {
   "attachments": {},
   "cell_type": "markdown",
   "metadata": {},
   "source": [
    "## Useful Functions"
   ]
  },
  {
   "cell_type": "code",
   "execution_count": 745,
   "metadata": {},
   "outputs": [],
   "source": [
    "np.random.seed(42)\n",
    "def tie_breaker(values, count, x_idx, y_train):\n",
    "    \"\"\"\n",
    "    x_idx = [ 91  53  56  25  26  96  1  2]\n",
    "    y_train_ls = y_train[x_idx]\n",
    "    y_train_ls = [111 222 33]\n",
    "    values [1 2 3]  count [3 3 2]\n",
    "    Given a list for indices of k-closest neighbours x_idx,\n",
    "    where there are values each repeat for number of count\n",
    "    return the value that is the closet\n",
    "    \"\"\"\n",
    "    popular_v = []\n",
    "    for i in range(len(count)):\n",
    "        if count[i] == np.max(count):\n",
    "            popular_v.append(values[i])\n",
    "    # print(popular_v)\n",
    "    for i in range(len(x_idx)):\n",
    "        if y_train[i] in popular_v:\n",
    "            \n",
    "            # print(\"1\", y_train[i])    \n",
    "            return y_train[i]\n",
    "\n",
    "# tie_breaker([1, 2, 3], [3, 3, 2], [9,8,7,6,5,4,3,2],[  3,3,1,1,1, 2,2,2])"
   ]
  },
  {
   "cell_type": "code",
   "execution_count": 746,
   "metadata": {},
   "outputs": [],
   "source": [
    "def knn_classifier(x_train, y_train, x_test, k, metric):\n",
    "    y_hat = np.empty((x_test.shape[0], 1), dtype=int)\n",
    "    if metric == \"cityblock\":\n",
    "        kd = KDTree(x_train, metric=\"cityblock\")\n",
    "    elif metric == \"euclidean\":\n",
    "        kd = KDTree(x_train, metric=\"euclidean\")\n",
    "    else:\n",
    "        pass\n",
    "    # The index of each neighbor in self.data. i is the same shape as distance. Missing neighbors are indicated with self.n.\n",
    "    idx = kd.query(x_test, k, return_distance=False, sort_results=False)\n",
    "    # sample idx: [[ 76  53], [ 32  40], [ 26  96], [ 24  78], [ 10  85]]\n",
    "    # there exists a closest neighbor with x_test value that ranks 53 in x_train\n",
    "    # idx = idx[:,1].reshape(-1,1)\n",
    "    # print(\"idx\",idx)\n",
    "    for i, x_test_i in enumerate(x_test):\n",
    "        # print(\"y_train[idx[i]]\", y_train[idx[i]])\n",
    "        # find the vlaues and number of occurances for k-closest y_train values for a given x_test_i\n",
    "        values, counts = np.unique(y_train[idx[i]], return_counts=True)\n",
    "        # print(values, counts)\n",
    "        if np.count_nonzero(counts == np.max(counts)) != 1:\n",
    "            # a tie example: 6 closest, getting y_train = [[1] * 3, [2] * 3]\n",
    "            # then \n",
    "            #print(k_nearest_neighbours[0])\n",
    "            #print(y_train[k_nearest_neighbours[0]])\n",
    "            # if there is a tie in the number of occurance\n",
    "            y_hat[i, 0] = tie_breaker(values, counts, idx[i], y_train[idx[i]])\n",
    "            # print(\"we have a tie for the most popular votes among k neighbours but we chose %d\" %(y_hat[i, 0]))\n",
    "        else:\n",
    "            y_hat[i, 0] = values[np.argmax(counts)]\n",
    "    #     print(idx)\n",
    "    # y_test = vote[np.argmax(count)]\n",
    "    # print(y_hat.shape)\n",
    "    return y_hat"
   ]
  },
  {
   "cell_type": "code",
   "execution_count": 747,
   "metadata": {},
   "outputs": [],
   "source": [
    "def get_accuracy(prediction, truth) -> float:\n",
    "    \"\"\"\n",
    "    Find the fraction of correct predictions for classification problems\n",
    "    \"\"\"\n",
    "    return np.mean(prediction == truth)\n",
    "\n",
    "def knn_best_km(x_train, y_train, x_valid, y_valid, metrics, dataset, step=5):\n",
    "    \"\"\"\n",
    "    Finding the best k and metric that maximizes accuracy\n",
    "    \"\"\"\n",
    "    # Create random k value\n",
    "    n = x_train.shape[0]\n",
    "    min_k = dict(iris=1,  mnist_small=1)  # specify minimum k value to consider in the search\n",
    "    max_k = dict(iris=np.sqrt(n), mnist_small=np.sqrt(n)) # specify maximum k value to consider in the search\n",
    "    # Define a range of k\n",
    "    k_vals = np.arange(min_k[dataset], max_k[dataset]+1, step, dtype=int)\n",
    "    # k_vals = [1,6, ]\n",
    "    # print(k_vals)\n",
    "    acc_ls = []\n",
    "    for m in metrics:\n",
    "        acc_for_m = []\n",
    "    # m = metrics[0]\n",
    "        for k in k_vals:\n",
    "    # k = 2\n",
    "            y_valid_p = knn_classifier(x_train, y_train, x_valid, k=k, metric = m)\n",
    "            acc = get_accuracy(y_valid_p, y_valid)\n",
    "            print(m, k, acc)\n",
    "            acc_for_m.append(acc)\n",
    "        acc_ls.append(acc_for_m)\n",
    "    print(\"acc_ls\",acc_ls)\n",
    "    acc_ls = np.asarray(acc_ls)\n",
    "    best = np.unravel_index(np.argmax(acc_ls), acc_ls.shape)\n",
    "    best_k = best[1]\n",
    "    best_m = best[0]\n",
    "    print(best)\n",
    "    print(\"The highest accuracy occurs for k = %d with metric %s: %f\"%(k_vals[best_k], metrics[best_m], acc_ls[best]))\n",
    "    # best_m = acc_ls.min(axis=1)\n",
    "    # print(\"best_k\", k_vals[best_k], metrics[best_m])\n",
    "    return k_vals[best_k], metrics[best_m], acc_ls[best]\n",
    "    "
   ]
  },
  {
   "attachments": {},
   "cell_type": "markdown",
   "metadata": {},
   "source": [
    "## iris"
   ]
  },
  {
   "cell_type": "code",
   "execution_count": 748,
   "metadata": {},
   "outputs": [
    {
     "data": {
      "text/plain": [
       "array([[0, 1, 2]])"
      ]
     },
     "execution_count": 748,
     "metadata": {},
     "output_type": "execute_result"
    }
   ],
   "source": [
    "x_train, x_valid, x_test, y_train, y_valid, y_test = load_dataset('iris')\n",
    "# y_train.shape[1]\n",
    "np.arange(y_train.shape[1]).reshape((1,-1)) \n",
    "# we don't care how many elements there are in the inner most dimension, but there needs to be 1 element in the outer most list.\n",
    "# x_train.shape #(104, 4)\n",
    "# y_train[32,40] #(104, 3)"
   ]
  },
  {
   "cell_type": "code",
   "execution_count": 749,
   "metadata": {},
   "outputs": [
    {
     "data": {
      "text/plain": [
       "(104, 1)"
      ]
     },
     "execution_count": 749,
     "metadata": {},
     "output_type": "execute_result"
    }
   ],
   "source": [
    "(y_train.shape[0], 1)"
   ]
  },
  {
   "cell_type": "code",
   "execution_count": 750,
   "metadata": {},
   "outputs": [
    {
     "data": {
      "text/plain": [
       "array([[False,  True, False],\n",
       "       [ True, False, False],\n",
       "       [False,  True, False],\n",
       "       [ True, False, False],\n",
       "       [False, False,  True],\n",
       "       [ True, False, False],\n",
       "       [ True, False, False],\n",
       "       [False, False,  True],\n",
       "       [False, False,  True],\n",
       "       [False, False,  True],\n",
       "       [False, False,  True],\n",
       "       [False, False,  True],\n",
       "       [False, False,  True],\n",
       "       [False,  True, False],\n",
       "       [False,  True, False],\n",
       "       [False, False,  True],\n",
       "       [False, False,  True],\n",
       "       [False, False,  True],\n",
       "       [ True, False, False],\n",
       "       [False,  True, False],\n",
       "       [False,  True, False],\n",
       "       [ True, False, False],\n",
       "       [False, False,  True],\n",
       "       [False,  True, False],\n",
       "       [ True, False, False],\n",
       "       [False,  True, False],\n",
       "       [False, False,  True],\n",
       "       [False, False,  True],\n",
       "       [ True, False, False],\n",
       "       [ True, False, False],\n",
       "       [ True, False, False],\n",
       "       [False, False,  True],\n",
       "       [False,  True, False],\n",
       "       [False,  True, False],\n",
       "       [False, False,  True],\n",
       "       [ True, False, False],\n",
       "       [False,  True, False],\n",
       "       [False,  True, False],\n",
       "       [False, False,  True],\n",
       "       [ True, False, False],\n",
       "       [False,  True, False],\n",
       "       [False,  True, False],\n",
       "       [ True, False, False],\n",
       "       [False,  True, False],\n",
       "       [ True, False, False],\n",
       "       [ True, False, False],\n",
       "       [ True, False, False],\n",
       "       [False,  True, False],\n",
       "       [False, False,  True],\n",
       "       [False, False,  True],\n",
       "       [ True, False, False],\n",
       "       [ True, False, False],\n",
       "       [False,  True, False],\n",
       "       [False, False,  True],\n",
       "       [False,  True, False],\n",
       "       [ True, False, False],\n",
       "       [False,  True, False],\n",
       "       [False,  True, False],\n",
       "       [False, False,  True],\n",
       "       [False,  True, False],\n",
       "       [False, False,  True],\n",
       "       [False,  True, False],\n",
       "       [False, False,  True],\n",
       "       [ True, False, False],\n",
       "       [False, False,  True],\n",
       "       [ True, False, False],\n",
       "       [ True, False, False],\n",
       "       [ True, False, False],\n",
       "       [False, False,  True],\n",
       "       [False,  True, False],\n",
       "       [False,  True, False],\n",
       "       [False,  True, False],\n",
       "       [False, False,  True],\n",
       "       [False, False,  True],\n",
       "       [ True, False, False],\n",
       "       [False, False,  True],\n",
       "       [False, False,  True],\n",
       "       [False,  True, False],\n",
       "       [ True, False, False],\n",
       "       [False,  True, False],\n",
       "       [ True, False, False],\n",
       "       [False,  True, False],\n",
       "       [ True, False, False],\n",
       "       [ True, False, False],\n",
       "       [False,  True, False],\n",
       "       [False,  True, False],\n",
       "       [False, False,  True],\n",
       "       [ True, False, False],\n",
       "       [ True, False, False],\n",
       "       [False,  True, False],\n",
       "       [False,  True, False],\n",
       "       [False,  True, False],\n",
       "       [False,  True, False],\n",
       "       [ True, False, False],\n",
       "       [ True, False, False],\n",
       "       [False, False,  True],\n",
       "       [False, False,  True],\n",
       "       [False, False,  True],\n",
       "       [False, False,  True],\n",
       "       [False,  True, False],\n",
       "       [ True, False, False],\n",
       "       [ True, False, False],\n",
       "       [False, False,  True],\n",
       "       [ True, False, False]])"
      ]
     },
     "execution_count": 750,
     "metadata": {},
     "output_type": "execute_result"
    }
   ],
   "source": [
    "y_train"
   ]
  },
  {
   "cell_type": "code",
   "execution_count": 751,
   "metadata": {},
   "outputs": [
    {
     "data": {
      "text/plain": [
       "array([[0, 1, 2],\n",
       "       [0, 1, 2],\n",
       "       [0, 1, 2],\n",
       "       [0, 1, 2],\n",
       "       [0, 1, 2],\n",
       "       [0, 1, 2],\n",
       "       [0, 1, 2],\n",
       "       [0, 1, 2],\n",
       "       [0, 1, 2],\n",
       "       [0, 1, 2],\n",
       "       [0, 1, 2],\n",
       "       [0, 1, 2],\n",
       "       [0, 1, 2],\n",
       "       [0, 1, 2],\n",
       "       [0, 1, 2],\n",
       "       [0, 1, 2],\n",
       "       [0, 1, 2],\n",
       "       [0, 1, 2],\n",
       "       [0, 1, 2],\n",
       "       [0, 1, 2],\n",
       "       [0, 1, 2],\n",
       "       [0, 1, 2],\n",
       "       [0, 1, 2],\n",
       "       [0, 1, 2],\n",
       "       [0, 1, 2],\n",
       "       [0, 1, 2],\n",
       "       [0, 1, 2],\n",
       "       [0, 1, 2],\n",
       "       [0, 1, 2],\n",
       "       [0, 1, 2],\n",
       "       [0, 1, 2],\n",
       "       [0, 1, 2],\n",
       "       [0, 1, 2],\n",
       "       [0, 1, 2],\n",
       "       [0, 1, 2],\n",
       "       [0, 1, 2],\n",
       "       [0, 1, 2],\n",
       "       [0, 1, 2],\n",
       "       [0, 1, 2],\n",
       "       [0, 1, 2],\n",
       "       [0, 1, 2],\n",
       "       [0, 1, 2],\n",
       "       [0, 1, 2],\n",
       "       [0, 1, 2],\n",
       "       [0, 1, 2],\n",
       "       [0, 1, 2],\n",
       "       [0, 1, 2],\n",
       "       [0, 1, 2],\n",
       "       [0, 1, 2],\n",
       "       [0, 1, 2],\n",
       "       [0, 1, 2],\n",
       "       [0, 1, 2],\n",
       "       [0, 1, 2],\n",
       "       [0, 1, 2],\n",
       "       [0, 1, 2],\n",
       "       [0, 1, 2],\n",
       "       [0, 1, 2],\n",
       "       [0, 1, 2],\n",
       "       [0, 1, 2],\n",
       "       [0, 1, 2],\n",
       "       [0, 1, 2],\n",
       "       [0, 1, 2],\n",
       "       [0, 1, 2],\n",
       "       [0, 1, 2],\n",
       "       [0, 1, 2],\n",
       "       [0, 1, 2],\n",
       "       [0, 1, 2],\n",
       "       [0, 1, 2],\n",
       "       [0, 1, 2],\n",
       "       [0, 1, 2],\n",
       "       [0, 1, 2],\n",
       "       [0, 1, 2],\n",
       "       [0, 1, 2],\n",
       "       [0, 1, 2],\n",
       "       [0, 1, 2],\n",
       "       [0, 1, 2],\n",
       "       [0, 1, 2],\n",
       "       [0, 1, 2],\n",
       "       [0, 1, 2],\n",
       "       [0, 1, 2],\n",
       "       [0, 1, 2],\n",
       "       [0, 1, 2],\n",
       "       [0, 1, 2],\n",
       "       [0, 1, 2],\n",
       "       [0, 1, 2],\n",
       "       [0, 1, 2],\n",
       "       [0, 1, 2],\n",
       "       [0, 1, 2],\n",
       "       [0, 1, 2],\n",
       "       [0, 1, 2],\n",
       "       [0, 1, 2],\n",
       "       [0, 1, 2],\n",
       "       [0, 1, 2],\n",
       "       [0, 1, 2],\n",
       "       [0, 1, 2],\n",
       "       [0, 1, 2],\n",
       "       [0, 1, 2],\n",
       "       [0, 1, 2],\n",
       "       [0, 1, 2],\n",
       "       [0, 1, 2],\n",
       "       [0, 1, 2],\n",
       "       [0, 1, 2],\n",
       "       [0, 1, 2],\n",
       "       [0, 1, 2]])"
      ]
     },
     "execution_count": 751,
     "metadata": {},
     "output_type": "execute_result"
    }
   ],
   "source": [
    "# np.tile(A, reps): Construct an array by repeating A the number of times given by reps.\n",
    "# repeat [[0, 1, 2]] for (104, 1) times: make 104 rows and in each row we only have one copy of [0,1,2]\n",
    "np.tile(np.arange(y_train.shape[1]).reshape((1,-1)), (y_train.shape[0], 1))"
   ]
  },
  {
   "cell_type": "code",
   "execution_count": 752,
   "metadata": {},
   "outputs": [
    {
     "data": {
      "text/plain": [
       "array([1, 0, 1, 0, 2, 0, 0, 2, 2, 2, 2, 2, 2, 1, 1, 2, 2, 2, 0, 1, 1, 0,\n",
       "       2, 1, 0, 1, 2, 2, 0, 0, 0, 2, 1, 1, 2, 0, 1, 1, 2, 0, 1, 1, 0, 1,\n",
       "       0, 0, 0, 1, 2, 2, 0, 0, 1, 2, 1, 0, 1, 1, 2, 1, 2, 1, 2, 0, 2, 0,\n",
       "       0, 0, 2, 1, 1, 1, 2, 2, 0, 2, 2, 1, 0, 1, 0, 1, 0, 0, 1, 1, 2, 0,\n",
       "       0, 1, 1, 1, 1, 0, 0, 2, 2, 2, 2, 1, 0, 0, 2, 0])"
      ]
     },
     "execution_count": 752,
     "metadata": {},
     "output_type": "execute_result"
    }
   ],
   "source": [
    "np.tile(np.arange(y_train.shape[1]).reshape((1,-1)), (y_train.shape[0], 1))[y_train]\n",
    "# (104,3)[(104,3)] is like taking dot proudct\n",
    "# [0, 1, 2] . [false, true, false] = 1 etc"
   ]
  },
  {
   "cell_type": "code",
   "execution_count": 753,
   "metadata": {},
   "outputs": [
    {
     "data": {
      "text/plain": [
       "array([[1],\n",
       "       [0],\n",
       "       [1],\n",
       "       [0],\n",
       "       [2],\n",
       "       [0],\n",
       "       [0],\n",
       "       [2],\n",
       "       [2],\n",
       "       [2],\n",
       "       [2],\n",
       "       [2],\n",
       "       [2],\n",
       "       [1],\n",
       "       [1],\n",
       "       [2],\n",
       "       [2],\n",
       "       [2],\n",
       "       [0],\n",
       "       [1],\n",
       "       [1],\n",
       "       [0],\n",
       "       [2],\n",
       "       [1],\n",
       "       [0],\n",
       "       [1],\n",
       "       [2],\n",
       "       [2],\n",
       "       [0],\n",
       "       [0],\n",
       "       [0],\n",
       "       [2],\n",
       "       [1],\n",
       "       [1],\n",
       "       [2],\n",
       "       [0],\n",
       "       [1],\n",
       "       [1],\n",
       "       [2],\n",
       "       [0],\n",
       "       [1],\n",
       "       [1],\n",
       "       [0],\n",
       "       [1],\n",
       "       [0],\n",
       "       [0],\n",
       "       [0],\n",
       "       [1],\n",
       "       [2],\n",
       "       [2],\n",
       "       [0],\n",
       "       [0],\n",
       "       [1],\n",
       "       [2],\n",
       "       [1],\n",
       "       [0],\n",
       "       [1],\n",
       "       [1],\n",
       "       [2],\n",
       "       [1],\n",
       "       [2],\n",
       "       [1],\n",
       "       [2],\n",
       "       [0],\n",
       "       [2],\n",
       "       [0],\n",
       "       [0],\n",
       "       [0],\n",
       "       [2],\n",
       "       [1],\n",
       "       [1],\n",
       "       [1],\n",
       "       [2],\n",
       "       [2],\n",
       "       [0],\n",
       "       [2],\n",
       "       [2],\n",
       "       [1],\n",
       "       [0],\n",
       "       [1],\n",
       "       [0],\n",
       "       [1],\n",
       "       [0],\n",
       "       [0],\n",
       "       [1],\n",
       "       [1],\n",
       "       [2],\n",
       "       [0],\n",
       "       [0],\n",
       "       [1],\n",
       "       [1],\n",
       "       [1],\n",
       "       [1],\n",
       "       [0],\n",
       "       [0],\n",
       "       [2],\n",
       "       [2],\n",
       "       [2],\n",
       "       [2],\n",
       "       [1],\n",
       "       [0],\n",
       "       [0],\n",
       "       [2],\n",
       "       [0]])"
      ]
     },
     "execution_count": 753,
     "metadata": {},
     "output_type": "execute_result"
    }
   ],
   "source": [
    "y_train_encoded = np.tile(np.arange(y_train.shape[1]).reshape((1,-1)), (y_train.shape[0], 1))[y_train].reshape(-1,1)\n",
    "y_valid_encoded = np.tile(np.arange(y_valid.shape[1]).reshape((1,-1)), (y_valid.shape[0], 1))[y_valid].reshape(-1,1)\n",
    "y_test_encoded = np.tile(np.arange(y_test.shape[1]).reshape((1,-1)), (y_test.shape[0], 1))[y_test].reshape(-1,1)\n",
    "y_train_encoded"
   ]
  },
  {
   "cell_type": "code",
   "execution_count": 754,
   "metadata": {},
   "outputs": [
    {
     "data": {
      "text/plain": [
       "(15, 4)"
      ]
     },
     "execution_count": 754,
     "metadata": {},
     "output_type": "execute_result"
    }
   ],
   "source": [
    "x_test.shape"
   ]
  },
  {
   "cell_type": "code",
   "execution_count": 755,
   "metadata": {},
   "outputs": [
    {
     "name": "stdout",
     "output_type": "stream",
     "text": [
      "cityblock 1 0.7741935483870968\n",
      "cityblock 6 0.7419354838709677\n",
      "cityblock 11 0.8709677419354839\n",
      "euclidean 1 0.7741935483870968\n",
      "euclidean 6 0.8709677419354839\n",
      "euclidean 11 0.8709677419354839\n",
      "acc_ls [[0.7741935483870968, 0.7419354838709677, 0.8709677419354839], [0.7741935483870968, 0.8709677419354839, 0.8709677419354839]]\n",
      "(0, 2)\n",
      "The highest accuracy occurs for k = 11 with metric cityblock: 0.870968\n",
      "1.0\n"
     ]
    }
   ],
   "source": [
    "k1, m1, _ = knn_best_km(x_train, y_train_encoded, x_valid, y_valid_encoded, [\"cityblock\", \"euclidean\"], 'iris')\n",
    "x = np.vstack([x_valid, x_train])\n",
    "y = np.vstack([y_valid_encoded, y_train_encoded])\n",
    "yp1 = knn_classifier(x, y, x_test, k1, m1)\n",
    "print(get_accuracy(yp1, y_test_encoded))"
   ]
  },
  {
   "cell_type": "code",
   "execution_count": 756,
   "metadata": {},
   "outputs": [
    {
     "data": {
      "text/plain": [
       "array([[2],\n",
       "       [0],\n",
       "       [0],\n",
       "       [2],\n",
       "       [0],\n",
       "       [0],\n",
       "       [1],\n",
       "       [1],\n",
       "       [2],\n",
       "       [0],\n",
       "       [2],\n",
       "       [2],\n",
       "       [1],\n",
       "       [1],\n",
       "       [1]])"
      ]
     },
     "execution_count": 756,
     "metadata": {},
     "output_type": "execute_result"
    }
   ],
   "source": [
    "yp1"
   ]
  },
  {
   "attachments": {},
   "cell_type": "markdown",
   "metadata": {},
   "source": [
    "## mnist small"
   ]
  },
  {
   "cell_type": "code",
   "execution_count": 757,
   "metadata": {},
   "outputs": [],
   "source": [
    "x_train, x_valid, x_test,y_train, y_valid, y_test = load_dataset('mnist_small')\n",
    "y_train_encoded = np.tile(np.arange(y_train.shape[1]).reshape((1,-1)), (y_train.shape[0], 1))[y_train].reshape(-1,1)\n",
    "y_valid_encoded = np.tile(np.arange(y_valid.shape[1]).reshape((1,-1)), (y_valid.shape[0], 1))[y_valid].reshape(-1,1)\n",
    "y_test_encoded = np.tile(np.arange(y_test.shape[1]).reshape((1,-1)), (y_test.shape[0], 1))[y_test].reshape(-1,1)"
   ]
  },
  {
   "cell_type": "code",
   "execution_count": 758,
   "metadata": {},
   "outputs": [
    {
     "data": {
      "text/plain": [
       "(10000, 784)"
      ]
     },
     "execution_count": 758,
     "metadata": {},
     "output_type": "execute_result"
    }
   ],
   "source": [
    "x_train.shape"
   ]
  },
  {
   "cell_type": "code",
   "execution_count": 759,
   "metadata": {},
   "outputs": [
    {
     "name": "stdout",
     "output_type": "stream",
     "text": [
      "cityblock 1 0.941\n",
      "cityblock 21 0.911\n",
      "cityblock 41 0.897\n",
      "cityblock 61 0.877\n",
      "cityblock 81 0.859\n",
      "euclidean 1 0.95\n",
      "euclidean 21 0.925\n",
      "euclidean 41 0.915\n",
      "euclidean 61 0.893\n",
      "euclidean 81 0.886\n",
      "acc_ls [[0.941, 0.911, 0.897, 0.877, 0.859], [0.95, 0.925, 0.915, 0.893, 0.886]]\n",
      "(1, 0)\n",
      "The highest accuracy occurs for k = 1 with metric euclidean: 0.950000\n",
      "0.959\n"
     ]
    }
   ],
   "source": [
    "k2, m2, _ = knn_best_km(x_train, y_train_encoded, x_valid, y_valid_encoded, [\"cityblock\", \"euclidean\"], 'mnist_small', step=20)\n",
    "x = np.vstack([x_valid, x_train])\n",
    "y = np.vstack([y_valid_encoded, y_train_encoded])\n",
    "yp2 = knn_classifier(x, y, x_test, k2, m2)\n",
    "print(get_accuracy(yp2, y_test_encoded))"
   ]
  },
  {
   "cell_type": "code",
   "execution_count": null,
   "metadata": {},
   "outputs": [],
   "source": []
  }
 ],
 "metadata": {
  "kernelspec": {
   "display_name": "base",
   "language": "python",
   "name": "python3"
  },
  "language_info": {
   "codemirror_mode": {
    "name": "ipython",
    "version": 3
   },
   "file_extension": ".py",
   "mimetype": "text/x-python",
   "name": "python",
   "nbconvert_exporter": "python",
   "pygments_lexer": "ipython3",
   "version": "3.9.13"
  },
  "orig_nbformat": 4,
  "vscode": {
   "interpreter": {
    "hash": "a19317f4f5c54ce075ccd52f4e23518d94270cb19615dfa3919d4f34583ea1e9"
   }
  }
 },
 "nbformat": 4,
 "nbformat_minor": 2
}
