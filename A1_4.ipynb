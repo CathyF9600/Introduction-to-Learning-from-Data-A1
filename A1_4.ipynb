{
 "cells": [
  {
   "attachments": {},
   "cell_type": "markdown",
   "metadata": {},
   "source": [
    "# Q4 Linear Regression + SVD to find weights and minimize RMSE"
   ]
  },
  {
   "cell_type": "code",
   "execution_count": 19,
   "metadata": {},
   "outputs": [],
   "source": [
    "from sklearn.neighbors import KDTree\n",
    "import numpy\n",
    "from data.data_utils import load_dataset\n",
    "import numpy as np\n",
    "import scipy\n",
    "import matplotlib.pyplot as plt\n",
    "from scipy.linalg import svd\n",
    "from pdb import set_trace\n",
    "import time"
   ]
  },
  {
   "attachments": {},
   "cell_type": "markdown",
   "metadata": {},
   "source": [
    "## Useful functions"
   ]
  },
  {
   "cell_type": "code",
   "execution_count": 20,
   "metadata": {},
   "outputs": [],
   "source": [
    "def linear_reg_svd(x_train, y_train, x_test):\n",
    "    \"\"\"\n",
    "    X = US(V^T)\n",
    "    want to minimize norm(y - Xw) -> rewrite w=v(U^T)y/sigma where sigma is the sigular vlaue of S -> w, y found\n",
    "    \"\"\"\n",
    "    U,S,Vt = np.linalg.svd(x_train, full_matrices=False, compute_uv=True)\n",
    "    weights = Vt.T.dot(U.T.dot(y_train) / np.reshape(S, (-1,1)))\n",
    "    y_hat = x_test.dot(weights)\n",
    "    # print(U,S, Vt)\n",
    "    return y_hat\n"
   ]
  },
  {
   "attachments": {},
   "cell_type": "markdown",
   "metadata": {},
   "source": [
    "## Regression"
   ]
  },
  {
   "cell_type": "code",
   "execution_count": 23,
   "metadata": {},
   "outputs": [
    {
     "name": "stdout",
     "output_type": "stream",
     "text": [
      "RMSE = 0.307285, time: 0.001478\n"
     ]
    }
   ],
   "source": [
    "x_train, x_valid, x_test, y_train, y_valid, y_test = load_dataset('mauna_loa')\n",
    "x = np.vstack([x_valid, x_train])\n",
    "y = np.vstack([y_valid, y_train])\n",
    "t0 = time.time()\n",
    "y_hat = linear_reg_svd(x, y, x_test)\n",
    "t1 = time.time()\n",
    "rmse = np.sqrt(np.mean(np.square(y_test-y_hat)))\n",
    "print(\"RMSE = %f, time: %f\" %(rmse, t1-t0))\n",
    "# y_hat"
   ]
  },
  {
   "cell_type": "code",
   "execution_count": 24,
   "metadata": {},
   "outputs": [
    {
     "name": "stdout",
     "output_type": "stream",
     "text": [
      "RMSE = 0.984087, time: 0.008408\n"
     ]
    }
   ],
   "source": [
    "x_train, x_valid, x_test, y_train, y_valid, y_test = load_dataset('rosenbrock', d=2, n_train=1000)\n",
    "x = np.vstack([x_valid, x_train])\n",
    "y = np.vstack([y_valid, y_train])\n",
    "t0 = time.time()\n",
    "y_hat = linear_reg_svd(x, y, x_test)\n",
    "t1 = time.time()\n",
    "rmse = np.sqrt(np.mean(np.square(y_test-y_hat)))\n",
    "print(\"RMSE = %f, time: %f\" %(rmse, t1-t0))"
   ]
  },
  {
   "cell_type": "code",
   "execution_count": 25,
   "metadata": {},
   "outputs": [
    {
     "name": "stdout",
     "output_type": "stream",
     "text": [
      "RMSE = 0.862237, time: 0.025847\n"
     ]
    }
   ],
   "source": [
    "x_train, x_valid, x_test, y_train, y_valid, y_test = load_dataset('pumadyn32nm')\n",
    "x = np.vstack([x_valid, x_train])\n",
    "y = np.vstack([y_valid, y_train])\n",
    "t0 = time.time()\n",
    "y_hat = linear_reg_svd(x, y, x_test)\n",
    "t1 = time.time()\n",
    "rmse = np.sqrt(np.mean(np.square(y_test-y_hat)))\n",
    "print(\"RMSE = %f, time: %f\" %(rmse, t1-t0))"
   ]
  },
  {
   "attachments": {},
   "cell_type": "markdown",
   "metadata": {},
   "source": [
    "## Classification"
   ]
  },
  {
   "cell_type": "code",
   "execution_count": 29,
   "metadata": {},
   "outputs": [
    {
     "name": "stdout",
     "output_type": "stream",
     "text": [
      "Accuracy = 0.862237, time: 0.002640\n"
     ]
    }
   ],
   "source": [
    "x_train, x_valid, x_test, y_train, y_valid, y_test = load_dataset('iris')\n",
    "x = np.vstack([x_valid, x_train])\n",
    "y = np.vstack([y_valid, y_train])\n",
    "y_train_encoded = np.tile(np.arange(y.shape[1]).reshape((1,-1)), (y.shape[0], 1))[y].reshape(-1,1)\n",
    "y_test_encoded = np.tile(np.arange(y_test.shape[1]).reshape((1,-1)), (y_test.shape[0], 1))[y_test].reshape(-1,1)\n",
    "t0 = time.time()\n",
    "y_hat = linear_reg_svd(x, y_train_encoded, x_test)\n",
    "t1 = time.time()\n",
    "acc = np.mean(y_hat == y_test_encoded)\n",
    "print(\"Accuracy = %f, time: %f\" %(rmse, t1-t0))"
   ]
  },
  {
   "cell_type": "code",
   "execution_count": 55,
   "metadata": {},
   "outputs": [
    {
     "name": "stdout",
     "output_type": "stream",
     "text": [
      "Accuracy = 0.862237, time: 0.001835\n"
     ]
    }
   ],
   "source": [
    "x_train, x_valid, x_test, y_train, y_valid, y_test = load_dataset('iris')\n",
    "x = np.vstack([x_valid, x_train])\n",
    "y = np.vstack([y_valid, y_train])\n",
    "y_train_encoded = np.tile(np.arange(y.shape[1]).reshape((1,-1)), (y.shape[0], 1))[y].reshape(-1,1)\n",
    "y_test_encoded = np.tile(np.arange(y_test.shape[1]).reshape((1,-1)), (y_test.shape[0], 1))[y_test].reshape(-1,1)\n",
    "t0 = time.time()\n",
    "y_hat = linear_reg_svd(x, y_train_encoded, x_test)\n",
    "t1 = time.time()\n",
    "y_hat = np.rint(y_hat).astype(int)\n",
    "acc = np.mean(y_hat == y_test_encoded)\n",
    "print(\"Accuracy = %f, time: %f\" %(rmse, t1-t0))"
   ]
  },
  {
   "cell_type": "code",
   "execution_count": 31,
   "metadata": {},
   "outputs": [
    {
     "name": "stdout",
     "output_type": "stream",
     "text": [
      "Accuracy = 0.862237, time: 2.002626\n"
     ]
    }
   ],
   "source": [
    "x_train, x_valid, x_test, y_train, y_valid, y_test = load_dataset('mnist_small')\n",
    "x = np.vstack([x_valid, x_train])\n",
    "y = np.vstack([y_valid, y_train])\n",
    "\n",
    "\n",
    "t0 = time.time()\n",
    "y_hat = linear_reg_svd(x, y, x_test)\n",
    "t1 = time.time()\n",
    "acc = np.mean(y_hat == y_test)\n",
    "print(\"Accuracy = %f, time: %f\" %(rmse, t1-t0))"
   ]
  }
 ],
 "metadata": {
  "kernelspec": {
   "display_name": "base",
   "language": "python",
   "name": "python3"
  },
  "language_info": {
   "codemirror_mode": {
    "name": "ipython",
    "version": 3
   },
   "file_extension": ".py",
   "mimetype": "text/x-python",
   "name": "python",
   "nbconvert_exporter": "python",
   "pygments_lexer": "ipython3",
   "version": "3.9.13"
  },
  "orig_nbformat": 4,
  "vscode": {
   "interpreter": {
    "hash": "a19317f4f5c54ce075ccd52f4e23518d94270cb19615dfa3919d4f34583ea1e9"
   }
  }
 },
 "nbformat": 4,
 "nbformat_minor": 2
}
