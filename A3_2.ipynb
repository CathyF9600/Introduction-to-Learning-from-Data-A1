{
 "cells": [
  {
   "cell_type": "code",
   "execution_count": 880,
   "metadata": {},
   "outputs": [],
   "source": [
    "import numpy as np\n",
    "import scipy\n",
    "from scipy.optimize import minimize\n",
    "import matplotlib.pyplot as plt\n",
    "from pdb import set_trace\n",
    "from data.data_utils import load_dataset\n",
    "import random\n",
    "\n",
    "np.random.seed(42)"
   ]
  },
  {
   "attachments": {},
   "cell_type": "markdown",
   "metadata": {},
   "source": [
    "# Gradient descent that learns the weights of a logistic regression model"
   ]
  },
  {
   "cell_type": "code",
   "execution_count": 881,
   "metadata": {},
   "outputs": [],
   "source": [
    "x_train, x_valid, x_test, y_train, y_valid, y_test = load_dataset('iris')"
   ]
  },
  {
   "cell_type": "code",
   "execution_count": 882,
   "metadata": {},
   "outputs": [],
   "source": [
    "y_train, y_valid, y_test = y_train[:,1,None], y_valid[:,1,None], y_test[:,1,None]\n",
    "\n",
    "x_train = np.vstack([x_valid, x_train])\n",
    "y_train = np.vstack([y_valid, y_train])\n",
    "\n",
    "# for w0 in w0 + wi * xi\n",
    "x_train = np.hstack([np.ones((x_train.shape[0], 1)), x_train])\n",
    "x_test  = np.hstack([np.ones((x_test.shape[0], 1)), x_test])"
   ]
  },
  {
   "cell_type": "code",
   "execution_count": 883,
   "metadata": {},
   "outputs": [
    {
     "data": {
      "text/plain": [
       "array([[False],\n",
       "       [ True],\n",
       "       [ True],\n",
       "       [False],\n",
       "       [False],\n",
       "       [False],\n",
       "       [False],\n",
       "       [False],\n",
       "       [ True],\n",
       "       [False]])"
      ]
     },
     "execution_count": 883,
     "metadata": {},
     "output_type": "execute_result"
    }
   ],
   "source": [
    "y_train[:10]"
   ]
  },
  {
   "cell_type": "code",
   "execution_count": 884,
   "metadata": {},
   "outputs": [
    {
     "data": {
      "text/plain": [
       "(135, 5)"
      ]
     },
     "execution_count": 884,
     "metadata": {},
     "output_type": "execute_result"
    }
   ],
   "source": [
    "x_train.shape"
   ]
  },
  {
   "cell_type": "code",
   "execution_count": 885,
   "metadata": {},
   "outputs": [],
   "source": [
    "def sigmoid(z):\n",
    "    return scipy.special.expit(z)\n",
    "\n",
    "def negative_log_likelihood(x, y, w):\n",
    "    z = x.dot(w)\n",
    "    f = sigmoid(z)\n",
    "    return -np.sum(y * np.log(f) + (1-y) * np.log(1 - f))\n",
    "\n",
    "def gradient_neg_log_likelihood(x, y, w):\n",
    "    z = x.dot(w)\n",
    "    f = sigmoid(z)\n",
    "    # print(y)\n",
    "    x = x.reshape(-1,w.shape[0])\n",
    "    # print(x.shape)\n",
    "    return -np.dot(x.T, y-f.reshape(-1,1)) #column\n",
    "\n",
    "epochs = 5000"
   ]
  },
  {
   "attachments": {},
   "cell_type": "markdown",
   "metadata": {},
   "source": [
    "## Full batch"
   ]
  },
  {
   "cell_type": "code",
   "execution_count": 886,
   "metadata": {},
   "outputs": [
    {
     "name": "stdout",
     "output_type": "stream",
     "text": [
      "Epoch 0: Training error = 81.40912819330848\n",
      "Epoch 500: Training error = 65.813806270622\n",
      "Epoch 1000: Training error = 65.79467645842914\n",
      "Epoch 1500: Training error = 65.79437376332653\n",
      "Epoch 2000: Training error = 65.79436884950043\n",
      "Epoch 2500: Training error = 65.79436876947031\n",
      "Epoch 3000: Training error = 65.79436876816632\n",
      "Epoch 3500: Training error = 65.79436876814509\n",
      "Epoch 4000: Training error = 65.79436876814474\n",
      "Epoch 4500: Training error = 65.79436876814472\n",
      "Test Negative_log_likelihood = 6.912966518926425\n",
      "Accuracy 0.7333333333333333\n"
     ]
    }
   ],
   "source": [
    "def full_batch_MLE(x_train, y_train, x_test, y_test, lr):\n",
    "    # Initialize the weights with zeros\n",
    "    w = np.zeros((x_train.shape[1], 1))\n",
    "    # print(w.shape)\n",
    "    train_errors = []\n",
    "    # Start the training loop\n",
    "    for epoch in range(epochs):\n",
    "        # Compute Full-Batch Gradient\n",
    "        grad_w = gradient_neg_log_likelihood(x_train, y_train, w)\n",
    "        # print(grad_w.shape)\n",
    "        w  -= lr * grad_w\n",
    "        # Compute the training error\n",
    "        train_error = negative_log_likelihood(x_train, y_train, w)\n",
    "        # get best weights\n",
    "        if len(train_errors) > 0 and train_error < train_errors[-1]:\n",
    "            w_best = w\n",
    "        train_errors.append(train_error)\n",
    "        # Print the training error every 100 epochs\n",
    "        if epoch % (epochs/10) == 0:\n",
    "            print(f\"Epoch {epoch}: Training error = {train_error}\")\n",
    "    # Compute the testing error\n",
    "    test_error = negative_log_likelihood(x_test, y_test, w_best)\n",
    "\n",
    "    # plot training error versus epochs\n",
    "    # plt.plot(range(1, epochs+1), train_errors, label='full batch GD')\n",
    "    \n",
    "    # Print the final testing error (root mean squared error)\n",
    "    print(f\"Test Negative_log_likelihood = {test_error}\")\n",
    "    z = x_test.dot(w_best)\n",
    "    f_test = sigmoid(z)\n",
    "    accuracy = np.mean( (f_test>0.5) == y_test )\n",
    "    print(\"Accuracy %s\" %str(accuracy))\n",
    "    return epochs, train_errors\n",
    "epochs, full_training_errors = full_batch_MLE(x_train, y_train, x_test, y_test, 0.01)"
   ]
  },
  {
   "attachments": {},
   "cell_type": "markdown",
   "metadata": {},
   "source": [
    "## Mini Batch Stochastic size = 1"
   ]
  },
  {
   "cell_type": "code",
   "execution_count": 887,
   "metadata": {},
   "outputs": [
    {
     "name": "stdout",
     "output_type": "stream",
     "text": [
      "Epoch 0: Training error = 93.05431791324077\n",
      "Epoch 500: Training error = 73.88055936190923\n",
      "Epoch 1000: Training error = 70.75412800463903\n",
      "Epoch 1500: Training error = 69.8021757734043\n",
      "Epoch 2000: Training error = 68.96250067767447\n",
      "Epoch 2500: Training error = 68.04233380274654\n",
      "Epoch 3000: Training error = 68.05799082511142\n",
      "Epoch 3500: Training error = 67.5451325665358\n",
      "Epoch 4000: Training error = 67.43204713343451\n",
      "Epoch 4500: Training error = 67.32178511292503\n",
      "Test Negative_log_likelihood = 7.037257829056104\n",
      "Accuracy 0.7333333333333333\n"
     ]
    },
    {
     "data": {
      "image/png": "[encoded data removed]",
      "text/plain": [
       "<Figure size 640x480 with 1 Axes>"
      ]
     },
     "metadata": {},
     "output_type": "display_data"
    }
   ],
   "source": [
    "def mini_batch_MLE(x_train, y_train, x_test, y_test, lr):\n",
    "    # Initialize the weights with zeros\n",
    "    w = np.zeros((x_train.shape[1],1)) \n",
    "    # print(w.shape)\n",
    "    train_errors = []\n",
    "    # Start the training loop\n",
    "    for epoch in range(epochs):\n",
    "        i = random.randint(0, len(y_train)-1)\n",
    "        x_batch = x_train[i]\n",
    "        # print(x_batch.shape)\n",
    "        grad_w = gradient_neg_log_likelihood(x_batch, y_train[i], w)\n",
    "        # Update the weights\n",
    "        w -= lr * grad_w\n",
    "        train_error = negative_log_likelihood(x_train, y_train, w)\n",
    "        # get best weights\n",
    "        if len(train_errors) > 0 and train_error < train_errors[-1]:\n",
    "            w_best = w\n",
    "        train_errors.append(train_error)\n",
    "        # Print the training error every 100 epochs\n",
    "        if epoch % (epochs/10) == 0:\n",
    "            print(f\"Epoch {epoch}: Training error = {train_error}\")\n",
    "\n",
    "    # Compute the testing error\n",
    "    test_error = negative_log_likelihood(x_test, y_test, w)    \n",
    "    # Print the final testing error (root mean squared error)\n",
    "    print(f\"Test Negative_log_likelihood = {test_error}\")\n",
    "    z = x_test.dot(w)\n",
    "    f_test = sigmoid(z)\n",
    "    accuracy = np.mean( (f_test>0.5) == y_test )\n",
    "    print(\"Accuracy %s\" %str(accuracy))\n",
    "    return epochs, train_errors\n",
    "\n",
    "epochs2, batch_training_errors = mini_batch_MLE(x_train, y_train, x_test, y_test, 0.01)\n",
    "\n",
    "plt.plot(range(1, epochs+1), full_training_errors, label='full batch GD')\n",
    "plt.plot(range(1, epochs2+1), batch_training_errors, label='mini batch SGD')\n",
    "plt.ticklabel_format(useOffset=False, style='plain')\n",
    "plt.xlabel('Epoch')\n",
    "plt.ylabel('Negative log likelihood')\n",
    "plt.legend(loc='best')\n",
    "plt.show()"
   ]
  }
 ],
 "metadata": {
  "kernelspec": {
   "display_name": "Python 3",
   "language": "python",
   "name": "python3"
  },
  "language_info": {
   "codemirror_mode": {
    "name": "ipython",
    "version": 3
   },
   "file_extension": ".py",
   "mimetype": "text/x-python",
   "name": "python",
   "nbconvert_exporter": "python",
   "pygments_lexer": "ipython3",
   "version": "3.9.13"
  },
  "orig_nbformat": 4
 },
 "nbformat": 4,
 "nbformat_minor": 2
}
