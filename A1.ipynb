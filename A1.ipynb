{
 "cells": [
  {
   "cell_type": "code",
   "execution_count": 568,
   "id": "28301d3b",
   "metadata": {},
   "outputs": [],
   "source": [
    "import numpy\n",
    "from data.data_utils import load_dataset\n",
    "\n"
   ]
  },
  {
   "cell_type": "code",
   "execution_count": 569,
   "id": "666729ac",
   "metadata": {},
   "outputs": [],
   "source": [
    "import numpy as np\n",
    "import scipy\n",
    "import matplotlib.pyplot as plt\n",
    "from scipy.linalg import svd\n",
    "from pdb import set_trace"
   ]
  },
  {
   "attachments": {},
   "cell_type": "markdown",
   "id": "3dbc1c98",
   "metadata": {},
   "source": [
    "# Q1"
   ]
  },
  {
   "attachments": {},
   "cell_type": "markdown",
   "id": "c2a2b650",
   "metadata": {},
   "source": [
    "## Useful functions"
   ]
  },
  {
   "cell_type": "code",
   "execution_count": 570,
   "id": "11bc6795",
   "metadata": {},
   "outputs": [],
   "source": [
    "# Get RMSE\n",
    "def RMSE(y, y_hat):\n",
    "  return np.sqrt(np.mean(np.square(y-y_hat)))"
   ]
  },
  {
   "cell_type": "code",
   "execution_count": 571,
   "id": "e5e3858c",
   "metadata": {},
   "outputs": [],
   "source": [
    "np.random.seed(42)\n",
    "def knn_regressor(x_train, y_train, x_test, k = 1, metric = \"minkowski_2\") -> np.array:\n",
    "    y_test = np.zeros((x_test.shape[0], 1))\n",
    "    # print(y_test.shape)\n",
    "    for i, x_test_i in enumerate(x_test):\n",
    "        if metric == \"minkowski_2\":\n",
    "          dist = np.sqrt(np.sum(np.square(x_train-x_test_i.reshape((1,-1))), axis=1))\n",
    "        elif metric == \"minkowski_1\":\n",
    "          dist = np.sum(np.abs(x_train-x_test_i.reshape((1,-1))), axis=1)\n",
    "        else:\n",
    "            pass\n",
    "        i_nn = np.argpartition(dist, kth=k, axis=0)[:k]\n",
    "        # k=5: i_nn=[122 384  90 399  40] etc\n",
    "        # compute the mean of these nearest neighbours\n",
    "        y_test[i,0] = np.mean(y_train[i_nn, 0])\n",
    "    # y_test: [[mean y for x_test_1], [mean y for x_test_2], [mean y for x_test_3]] ...\n",
    "    return y_test\n",
    "\n",
    "def knn_cross_validation(x, y, x_test, dataset, v = 5, metrics = \"minkowski_2\") -> np.array:\n",
    "    \"\"\"\n",
    "    Cross validation to find the y_test,\n",
    "    Return k_vals, best, fold_i[np.argmin(best)], k_merged_prediction\n",
    "    k_vals : list of all k we tried\n",
    "    best : list of lowest RMSE for each k values\n",
    "    fold_i[np.argmin(best)] : the fold index with the lowest RMSE value\n",
    "    k_merged_prediction : predictions merged from cross-validation for each k value\n",
    "    \"\"\"\n",
    "    # Create shuffling indices for training data\n",
    "    n = x.shape[0]\n",
    "\n",
    "    # Initialize mrse returned array\n",
    "    rmse = []\n",
    "    # rmse[:] = np.nan\n",
    "    # print(type(mrse))\n",
    "\n",
    "    # Create random k value\n",
    "    min_k = dict(rosenbrock=1,  pumadyn32nm=22, mauna_loa=1)  # specify minimum k value to consider in the search\n",
    "    max_k = dict(rosenbrock=10, pumadyn32nm=26, mauna_loa=30) # specify maximum k value to consider in the search\n",
    "    # Define a range of k\n",
    "    k_vals = np.arange(min_k[dataset], max_k[dataset]+1, dtype=int)\n",
    "    # print(k_vals)\n",
    "    \n",
    "    # print(\"predictions\", predictions.shape)\n",
    "    for k in k_vals:\n",
    "        predictions = np.zeros(n)\n",
    "        # predictions[:] = np.nan\n",
    "        val_err_in_fold = []\n",
    "        # val_err_in_fold[:] = np.nan\n",
    "        five_fold = np.array([0,1,2,3,4])\n",
    "        for i_split in range(v):\n",
    "            train_fold = np.delete(five_fold, i_split)\n",
    "            print(\"train_fold\", train_fold)\n",
    "            # Initialize prediction array\n",
    "            idx_cv = -np.ones(int(5*np.ceil(n/5)), dtype=int) # round up to the nearest factor of 5\n",
    "            idx_cv[:n] = np.arange(x.shape[0], dtype=int) # add the indicies of all points\n",
    "            idx_cv = np.random.permutation(idx_cv).reshape((5, -1))\n",
    "            idx_cv = idx_cv[idx_cv>=0]\n",
    "            idx_cv = np.array_split(idx_cv, 5)\n",
    "            # print(\"k: %d; fold: %d; idx_cv:\"%(k, i_split))\n",
    "            # print(idx_cv)\n",
    "            split_train = np.concatenate([idx_cv[i] for i in train_fold])\n",
    "            \n",
    "            split_valid = idx_cv[i_split]\n",
    "            print(\"len:\", len(split_train), len(split_valid))\n",
    "\n",
    "            \n",
    "            # split_valid = idx_cv[i_split, idx_cv[i_split] >= 0]\n",
    "            # split_train = np.delete(idx_cv, i_split, axis=0).reshape(-1)\n",
    "            # split_train = split_train[split_train >= 0]\n",
    "\n",
    "            x_valid = x[split_valid]\n",
    "            # print(\"split valid\", len(split_valid))\n",
    "            # print(\"y\", y.shape)\n",
    "            y_valid = y[split_valid]\n",
    "            # print(\"k\", k)\n",
    "            # print(\"split valid\", split_valid)\n",
    "            # print(\"split train\", split_train)\n",
    "            # print(\"x\", x[split_train])\n",
    "            predictions[split_valid] = knn_regressor(x_train=x[split_train], y_train=y[split_train], \n",
    "                                                        x_test=x_valid, k=k, metric=metrics).squeeze()\n",
    "            # print(\"dim valid\", y_valid.squeeze().shape)\n",
    "            # print(\"dim pred\", predictions.shape)\n",
    "            val_err = RMSE(y=y_valid.squeeze(), y_hat=predictions[split_valid])\n",
    "            # print(\"k: %d; fold: %d; RMSE: %f \"%(k, i_split, val_err))\n",
    "            val_err_in_fold.append(val_err)\n",
    "        # print(\"k\", k, val_err_in_fold)\n",
    "        rmse.append(val_err_in_fold)\n",
    "    print(\"mse\", np.asarray(rmse))\n",
    "    rmse = np.asarray(rmse)\n",
    "    fold_i = rmse.argmin(axis=1)\n",
    "    best = rmse.min(axis=1)\n",
    "    # print(\"best\",best)\n",
    "    return k_vals, best, fold_i[np.argmin(best)]"
   ]
  },
  {
   "attachments": {},
   "cell_type": "markdown",
   "id": "773002e8",
   "metadata": {},
   "source": [
    "## Mauna Loa"
   ]
  },
  {
   "cell_type": "code",
   "execution_count": 572,
   "id": "d11a4d83",
   "metadata": {},
   "outputs": [
    {
     "data": {
      "text/plain": [
       "[<matplotlib.lines.Line2D at 0x7fe6d1cd9880>]"
      ]
     },
     "execution_count": 572,
     "metadata": {},
     "output_type": "execute_result"
    },
    {
     "data": {
      "image/png": "[encoded data removed]",
      "text/plain": [
       "<Figure size 300x300 with 1 Axes>"
      ]
     },
     "metadata": {},
     "output_type": "display_data"
    }
   ],
   "source": [
    "x_train, x_valid, x_test, y_train, y_valid, y_test = load_dataset('mauna_loa')\n",
    "# Merge splits\n",
    "x = np.vstack([x_valid, x_train])\n",
    "y = np.vstack([y_valid, y_train])\n",
    "\n",
    "# Visualize our data\n",
    "plt.figure(figsize=(3,3))\n",
    "plt.plot(x_train.squeeze(), y_train.squeeze(), 'k', label='Exact', alpha=0.5)"
   ]
  },
  {
   "cell_type": "code",
   "execution_count": 573,
   "id": "2e5d8297",
   "metadata": {},
   "outputs": [
    {
     "data": {
      "text/plain": [
       "131"
      ]
     },
     "execution_count": 573,
     "metadata": {},
     "output_type": "execute_result"
    }
   ],
   "source": [
    "# Shuffle\n",
    "# idx = np.ones(x.shape[0])\n",
    "idx = np.arange(x.shape[0], dtype=int)\n",
    "idx = np.random.permutation(idx)\n",
    "idx = np.array_split(idx, 5)\n",
    "len(idx[4])"
   ]
  },
  {
   "cell_type": "code",
   "execution_count": 574,
   "id": "a803167e",
   "metadata": {},
   "outputs": [],
   "source": [
    "np.random.seed(42)\n",
    "# Split the data\n",
    "x_train_folds = np.array_split(x, 5)\n",
    "y_train_folds = np.array_split(y, 5)"
   ]
  },
  {
   "cell_type": "code",
   "execution_count": 575,
   "id": "0041eae9",
   "metadata": {},
   "outputs": [
    {
     "data": {
      "text/plain": [
       "5"
      ]
     },
     "execution_count": 575,
     "metadata": {},
     "output_type": "execute_result"
    }
   ],
   "source": [
    "a = [1,2,3]\n",
    "b = np.array([[4],[5],[6],[7]])\n",
    "bb = np.zeros((y.shape[0], 1))\n",
    "\n",
    "for i in range(bb.shape[0]):\n",
    "    bb[i,0]=np.mean(y_train[b, 0])\n",
    "\n",
    "b[1,0]"
   ]
  },
  {
   "cell_type": "code",
   "execution_count": 576,
   "id": "dbe9402c",
   "metadata": {},
   "outputs": [
    {
     "name": "stdout",
     "output_type": "stream",
     "text": [
      "train_fold [1 2 3 4]\n",
      "len: 524 132\n"
     ]
    },
    {
     "ename": "ValueError",
     "evalue": "operands could not be broadcast together with shapes (132,) (656,) ",
     "output_type": "error",
     "traceback": [
      "\u001b[0;31m---------------------------------------------------------------------------\u001b[0m",
      "\u001b[0;31mValueError\u001b[0m                                Traceback (most recent call last)",
      "\u001b[0;32m/var/folders/k9/4vy5m15x11g52pc66lqg1ylm0000gn/T/ipykernel_42049/3678559422.py\u001b[0m in \u001b[0;36m<module>\u001b[0;34m\u001b[0m\n\u001b[0;32m----> 1\u001b[0;31m \u001b[0mk_vals\u001b[0m\u001b[0;34m,\u001b[0m \u001b[0mbest2\u001b[0m\u001b[0;34m,\u001b[0m \u001b[0mfold_2\u001b[0m \u001b[0;34m=\u001b[0m \u001b[0mknn_cross_validation\u001b[0m\u001b[0;34m(\u001b[0m\u001b[0mx\u001b[0m\u001b[0;34m,\u001b[0m \u001b[0my\u001b[0m\u001b[0;34m,\u001b[0m \u001b[0mx_test\u001b[0m\u001b[0;34m,\u001b[0m \u001b[0;34m\"mauna_loa\"\u001b[0m\u001b[0;34m,\u001b[0m \u001b[0mv\u001b[0m \u001b[0;34m=\u001b[0m \u001b[0;36m5\u001b[0m\u001b[0;34m,\u001b[0m \u001b[0mmetrics\u001b[0m \u001b[0;34m=\u001b[0m \u001b[0;34m\"minkowski_2\"\u001b[0m\u001b[0;34m)\u001b[0m\u001b[0;34m\u001b[0m\u001b[0;34m\u001b[0m\u001b[0m\n\u001b[0m\u001b[1;32m      2\u001b[0m \u001b[0;34m\u001b[0m\u001b[0m\n\u001b[1;32m      3\u001b[0m \u001b[0mplt\u001b[0m\u001b[0;34m.\u001b[0m\u001b[0mfigure\u001b[0m\u001b[0;34m(\u001b[0m\u001b[0;34m)\u001b[0m\u001b[0;34m\u001b[0m\u001b[0;34m\u001b[0m\u001b[0m\n\u001b[1;32m      4\u001b[0m \u001b[0mplt\u001b[0m\u001b[0;34m.\u001b[0m\u001b[0mtitle\u001b[0m\u001b[0;34m(\u001b[0m\u001b[0;34m'validation errors across k (L2 distance metric)'\u001b[0m\u001b[0;34m)\u001b[0m\u001b[0;34m\u001b[0m\u001b[0;34m\u001b[0m\u001b[0m\n\u001b[1;32m      5\u001b[0m \u001b[0mplt\u001b[0m\u001b[0;34m.\u001b[0m\u001b[0mxlabel\u001b[0m\u001b[0;34m(\u001b[0m\u001b[0;34m'k'\u001b[0m\u001b[0;34m)\u001b[0m\u001b[0;34m\u001b[0m\u001b[0;34m\u001b[0m\u001b[0m\n",
      "\u001b[0;32m/var/folders/k9/4vy5m15x11g52pc66lqg1ylm0000gn/T/ipykernel_42049/3332975133.py\u001b[0m in \u001b[0;36mknn_cross_validation\u001b[0;34m(x, y, x_test, dataset, v, metrics)\u001b[0m\n\u001b[1;32m     81\u001b[0m             \u001b[0;31m# print(\"dim valid\", y_valid.squeeze().shape)\u001b[0m\u001b[0;34m\u001b[0m\u001b[0;34m\u001b[0m\u001b[0m\n\u001b[1;32m     82\u001b[0m             \u001b[0;31m# print(\"dim pred\", predictions.shape)\u001b[0m\u001b[0;34m\u001b[0m\u001b[0;34m\u001b[0m\u001b[0m\n\u001b[0;32m---> 83\u001b[0;31m             \u001b[0mval_err\u001b[0m \u001b[0;34m=\u001b[0m \u001b[0mRMSE\u001b[0m\u001b[0;34m(\u001b[0m\u001b[0my\u001b[0m\u001b[0;34m=\u001b[0m\u001b[0my_valid\u001b[0m\u001b[0;34m.\u001b[0m\u001b[0msqueeze\u001b[0m\u001b[0;34m(\u001b[0m\u001b[0;34m)\u001b[0m\u001b[0;34m,\u001b[0m \u001b[0my_hat\u001b[0m\u001b[0;34m=\u001b[0m\u001b[0mpredictions\u001b[0m\u001b[0;34m)\u001b[0m\u001b[0;34m\u001b[0m\u001b[0;34m\u001b[0m\u001b[0m\n\u001b[0m\u001b[1;32m     84\u001b[0m             \u001b[0;31m# print(\"k: %d; fold: %d; RMSE: %f \"%(k, i_split, val_err))\u001b[0m\u001b[0;34m\u001b[0m\u001b[0;34m\u001b[0m\u001b[0m\n\u001b[1;32m     85\u001b[0m             \u001b[0mval_err_in_fold\u001b[0m\u001b[0;34m.\u001b[0m\u001b[0mappend\u001b[0m\u001b[0;34m(\u001b[0m\u001b[0mval_err\u001b[0m\u001b[0;34m)\u001b[0m\u001b[0;34m\u001b[0m\u001b[0;34m\u001b[0m\u001b[0m\n",
      "\u001b[0;32m/var/folders/k9/4vy5m15x11g52pc66lqg1ylm0000gn/T/ipykernel_42049/3685298016.py\u001b[0m in \u001b[0;36mRMSE\u001b[0;34m(y, y_hat)\u001b[0m\n\u001b[1;32m      1\u001b[0m \u001b[0;31m# Get RMSE\u001b[0m\u001b[0;34m\u001b[0m\u001b[0;34m\u001b[0m\u001b[0m\n\u001b[1;32m      2\u001b[0m \u001b[0;32mdef\u001b[0m \u001b[0mRMSE\u001b[0m\u001b[0;34m(\u001b[0m\u001b[0my\u001b[0m\u001b[0;34m,\u001b[0m \u001b[0my_hat\u001b[0m\u001b[0;34m)\u001b[0m\u001b[0;34m:\u001b[0m\u001b[0;34m\u001b[0m\u001b[0;34m\u001b[0m\u001b[0m\n\u001b[0;32m----> 3\u001b[0;31m   \u001b[0;32mreturn\u001b[0m \u001b[0mnp\u001b[0m\u001b[0;34m.\u001b[0m\u001b[0msqrt\u001b[0m\u001b[0;34m(\u001b[0m\u001b[0mnp\u001b[0m\u001b[0;34m.\u001b[0m\u001b[0mmean\u001b[0m\u001b[0;34m(\u001b[0m\u001b[0mnp\u001b[0m\u001b[0;34m.\u001b[0m\u001b[0msquare\u001b[0m\u001b[0;34m(\u001b[0m\u001b[0my\u001b[0m\u001b[0;34m-\u001b[0m\u001b[0my_hat\u001b[0m\u001b[0;34m)\u001b[0m\u001b[0;34m)\u001b[0m\u001b[0;34m)\u001b[0m\u001b[0;34m\u001b[0m\u001b[0;34m\u001b[0m\u001b[0m\n\u001b[0m",
      "\u001b[0;31mValueError\u001b[0m: operands could not be broadcast together with shapes (132,) (656,) "
     ]
    }
   ],
   "source": [
    "k_vals, best2, fold_2 = knn_cross_validation(x, y, x_test, \"mauna_loa\", v = 5, metrics = \"minkowski_2\")\n",
    "\n",
    "plt.figure()\n",
    "plt.title('validation errors across k (L2 distance metric)')\n",
    "plt.xlabel('k')\n",
    "plt.plot(k_vals, best2)\n",
    "\n",
    "# print(k_vals,best2,fold_2)\n"
   ]
  },
  {
   "cell_type": "code",
   "execution_count": null,
   "id": "14db77d6",
   "metadata": {},
   "outputs": [],
   "source": [
    "# rmse = [[1,2,3],[4,5,6]]\n",
    "# rmse_max = [max(r) for r in rmse]\n",
    "# rmse_max"
   ]
  },
  {
   "cell_type": "code",
   "execution_count": null,
   "id": "adb2cde0",
   "metadata": {},
   "outputs": [],
   "source": [
    "_, best1, fold_1 = knn_cross_validation(x, y, x_test, \"mauna_loa\", v = 5, metrics = \"minkowski_1\")\n",
    "# best = [ err * 30 ]\n",
    "# Show validation errors for both metrics\n",
    "plt.figure()\n",
    "plt.title('validation errors across k (L2 distance metric)')\n",
    "plt.xlabel('k')\n",
    "plt.plot(k_vals, best2, label = \"l2\")\n",
    "plt.plot(k_vals, best1, label = \"l1\")\n",
    "plt.legend()\n",
    "plt.show()"
   ]
  },
  {
   "cell_type": "code",
   "execution_count": null,
   "id": "74067b1c",
   "metadata": {},
   "outputs": [],
   "source": [
    "# Plot Prediction Curves for several k values\n",
    "y_k1 = knn_regressor(x, y, x_test, k = 1, metric = \"minkowski_2\")\n",
    "\n",
    "plt.figure(figsize=(7,7))\n",
    "plt.title('Predictions on Testing Data for Mauna Loa')\n",
    "plt.ylabel('y')\n",
    "plt.xlabel('x_test')\n",
    "plt.plot(x.squeeze(), y.squeeze(), label='Exact', alpha=0.5)\n",
    "plt.plot(x_test.squeeze(), .squeeze(), label='Predictions', alpha=0.5)\n",
    "plt.legend()\n",
    "plt.show()"
   ]
  },
  {
   "cell_type": "code",
   "execution_count": null,
   "id": "01aaa2dd",
   "metadata": {},
   "outputs": [],
   "source": [
    "idx1 = np.argmin(best1)\n",
    "idx2 = np.argmin(best2)\n",
    "p = np.argmin([best1[idx1], best2[idx2]]) + 1\n",
    "if p == 2:\n",
    "    k = idx2+1\n",
    "    print(\"Metric Minkowski with p = %d at k = %d %dth fold has the lowest validation error %f.\" %(p, k, fold_2+1, best2[idx2]))\n",
    "else:\n",
    "    k = idx1+1\n",
    "    print(\"Metric Minkowski with p = %d at k = %d %dth fold has the lowest validation error %f.\" %(p, k, fold_1+1, best1[idx1]))\n",
    "\n",
    "# Find test error\n",
    "def k_nn_test_error(x_train, y_train, x_test, y_test, k, metric) -> np.array:\n",
    "    predictions = knn_regressor(x_train=x_train, y_train=y_train, \n",
    "                                                        x_test=x_test, k=k, metric=metric).squeeze()\n",
    "            # print(predictions)\n",
    "            # print(\"dim valid\", y_valid.squeeze().shape)\n",
    "            # print(\"dim pred\", predictions.shape)\n",
    "    test_err = RMSE(y=y_test.squeeze(), y_hat=predictions)\n",
    "    \n",
    "    return predictions, test_err\n",
    "m = \"minkowski_\" + str(p)\n",
    "predictions, test_err = k_nn_test_error(x, y, x_test, y_test, k = k, metric = m)\n",
    "print(\"The test error for the best model is: %f\" %(test_err))\n",
    "test_err\n"
   ]
  },
  {
   "cell_type": "code",
   "execution_count": null,
   "id": "2a78b303",
   "metadata": {},
   "outputs": [],
   "source": [
    "x_valid.shape"
   ]
  },
  {
   "cell_type": "code",
   "execution_count": null,
   "id": "9baf4978",
   "metadata": {},
   "outputs": [],
   "source": [
    "# Visualize our data\n",
    "plt.figure(figsize=(7,7))\n",
    "plt.title('Predictions on Testing Data for Mauna Loa')\n",
    "plt.ylabel('y')\n",
    "plt.xlabel('x_test')\n",
    "plt.plot(x.squeeze(), y.squeeze(), label='Exact', alpha=0.5)\n",
    "plt.plot(x_test.squeeze(), predictions.squeeze(), label='Predictions', alpha=0.5)\n",
    "plt.legend()\n",
    "plt.show()"
   ]
  },
  {
   "attachments": {},
   "cell_type": "markdown",
   "id": "783c0c3c",
   "metadata": {},
   "source": [
    "## Rosenbrock, n_train=1000, d=2"
   ]
  },
  {
   "cell_type": "code",
   "execution_count": null,
   "id": "ec71ed0f",
   "metadata": {},
   "outputs": [],
   "source": [
    "x_train, x_valid, x_test, y_train, y_valid, y_test = load_dataset('rosenbrock', n_train=1000, d=2)\n"
   ]
  },
  {
   "cell_type": "code",
   "execution_count": null,
   "id": "30680a9d",
   "metadata": {},
   "outputs": [],
   "source": [
    "# Merge splits\n",
    "x = np.vstack([x_valid, x_train])\n",
    "y = np.vstack([y_valid, y_train])\n",
    "\n",
    "# # Visualize our data\n",
    "# plt.figure(figsize=(3,3))\n",
    "# plt.plot(x_train.squeeze(), y_train.squeeze(), 'k', label='Exact', alpha=0.5)"
   ]
  },
  {
   "cell_type": "code",
   "execution_count": null,
   "id": "8081c451",
   "metadata": {},
   "outputs": [],
   "source": [
    "_, best1, fold_1 = knn_cross_validation(x, y, x_test, \"rosenbrock\", v = 5, metrics = \"minkowski_1\")\n",
    "_, best1, fold_1 = knn_cross_validation(x, y, x_test, \"rosenbrock\", v = 5, metrics = \"minkowski_1\")"
   ]
  },
  {
   "cell_type": "code",
   "execution_count": null,
   "metadata": {},
   "outputs": [],
   "source": [
    "plt.figure()\n",
    "plt.title('validation errors across k (L2 distance metric)')\n",
    "plt.xlabel('k')\n",
    "plt.plot(k_vals, best2)\n"
   ]
  },
  {
   "cell_type": "code",
   "execution_count": null,
   "id": "94eaf94d",
   "metadata": {},
   "outputs": [],
   "source": []
  },
  {
   "cell_type": "code",
   "execution_count": null,
   "id": "71492661",
   "metadata": {},
   "outputs": [],
   "source": []
  },
  {
   "cell_type": "code",
   "execution_count": null,
   "id": "69e76af4",
   "metadata": {},
   "outputs": [],
   "source": []
  },
  {
   "cell_type": "code",
   "execution_count": null,
   "id": "621a7b8c",
   "metadata": {},
   "outputs": [],
   "source": []
  },
  {
   "cell_type": "code",
   "execution_count": null,
   "id": "afdb4ac8",
   "metadata": {},
   "outputs": [],
   "source": []
  },
  {
   "cell_type": "code",
   "execution_count": null,
   "id": "116b5283",
   "metadata": {},
   "outputs": [],
   "source": []
  }
 ],
 "metadata": {
  "kernelspec": {
   "display_name": "base",
   "language": "python",
   "name": "python3"
  },
  "language_info": {
   "codemirror_mode": {
    "name": "ipython",
    "version": 3
   },
   "file_extension": ".py",
   "mimetype": "text/x-python",
   "name": "python",
   "nbconvert_exporter": "python",
   "pygments_lexer": "ipython3",
   "version": "3.9.13"
  },
  "vscode": {
   "interpreter": {
    "hash": "a19317f4f5c54ce075ccd52f4e23518d94270cb19615dfa3919d4f34583ea1e9"
   }
  }
 },
 "nbformat": 4,
 "nbformat_minor": 5
}
